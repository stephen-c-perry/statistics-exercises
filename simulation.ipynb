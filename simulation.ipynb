{
 "cells": [
  {
   "cell_type": "code",
   "execution_count": 83,
   "metadata": {},
   "outputs": [],
   "source": [
    "import numpy as np\n",
    "import pandas as pd\n",
    "import matplotlib.pyplot as plt"
   ]
  },
  {
   "cell_type": "markdown",
   "metadata": {},
   "source": [
    "1. How likely is it that you roll doubles when rolling two dice?\n"
   ]
  },
  {
   "cell_type": "code",
   "execution_count": 84,
   "metadata": {},
   "outputs": [
    {
     "data": {
      "text/html": [
       "<div>\n",
       "<style scoped>\n",
       "    .dataframe tbody tr th:only-of-type {\n",
       "        vertical-align: middle;\n",
       "    }\n",
       "\n",
       "    .dataframe tbody tr th {\n",
       "        vertical-align: top;\n",
       "    }\n",
       "\n",
       "    .dataframe thead th {\n",
       "        text-align: right;\n",
       "    }\n",
       "</style>\n",
       "<table border=\"1\" class=\"dataframe\">\n",
       "  <thead>\n",
       "    <tr style=\"text-align: right;\">\n",
       "      <th></th>\n",
       "      <th>0</th>\n",
       "    </tr>\n",
       "  </thead>\n",
       "  <tbody>\n",
       "    <tr>\n",
       "      <th>0</th>\n",
       "      <td>True</td>\n",
       "    </tr>\n",
       "    <tr>\n",
       "      <th>1</th>\n",
       "      <td>False</td>\n",
       "    </tr>\n",
       "    <tr>\n",
       "      <th>2</th>\n",
       "      <td>False</td>\n",
       "    </tr>\n",
       "    <tr>\n",
       "      <th>3</th>\n",
       "      <td>False</td>\n",
       "    </tr>\n",
       "    <tr>\n",
       "      <th>4</th>\n",
       "      <td>False</td>\n",
       "    </tr>\n",
       "    <tr>\n",
       "      <th>...</th>\n",
       "      <td>...</td>\n",
       "    </tr>\n",
       "    <tr>\n",
       "      <th>99995</th>\n",
       "      <td>False</td>\n",
       "    </tr>\n",
       "    <tr>\n",
       "      <th>99996</th>\n",
       "      <td>False</td>\n",
       "    </tr>\n",
       "    <tr>\n",
       "      <th>99997</th>\n",
       "      <td>False</td>\n",
       "    </tr>\n",
       "    <tr>\n",
       "      <th>99998</th>\n",
       "      <td>False</td>\n",
       "    </tr>\n",
       "    <tr>\n",
       "      <th>99999</th>\n",
       "      <td>False</td>\n",
       "    </tr>\n",
       "  </tbody>\n",
       "</table>\n",
       "<p>100000 rows × 1 columns</p>\n",
       "</div>"
      ],
      "text/plain": [
       "           0\n",
       "0       True\n",
       "1      False\n",
       "2      False\n",
       "3      False\n",
       "4      False\n",
       "...      ...\n",
       "99995  False\n",
       "99996  False\n",
       "99997  False\n",
       "99998  False\n",
       "99999  False\n",
       "\n",
       "[100000 rows x 1 columns]"
      ]
     },
     "execution_count": 84,
     "metadata": {},
     "output_type": "execute_result"
    }
   ],
   "source": [
    "# generate the numbers\n",
    "# reshape to the structure we want\n",
    "# pd.Series.data.reshape((2,100))\n",
    "# apply a condition to get a boolean, convert to int\n",
    "# calculate liklihood (num of [1,1] over total sets)\n",
    "\n",
    "n_col = 2\n",
    "n_row = 100000\n",
    "rolls = np.random.choice([1, 2, 3, 4, 5, 6], n_row * n_col).reshape(n_row,n_col)\n",
    "\n",
    "doubles = rolls[:,0] == rolls[:,1]\n",
    "doubles\n",
    "doubles.astype(int)\n",
    "\n",
    "type(doubles)\n",
    "\n",
    "df = pd.DataFrame(rolls, columns = ['Coin_1','Coin_2'])\n",
    "df_doubles = pd.DataFrame(doubles)\n",
    "df_doubles\n"
   ]
  },
  {
   "cell_type": "code",
   "execution_count": 85,
   "metadata": {},
   "outputs": [
    {
     "data": {
      "text/plain": [
       "0    0.16799\n",
       "dtype: float64"
      ]
     },
     "execution_count": 85,
     "metadata": {},
     "output_type": "execute_result"
    }
   ],
   "source": [
    "df_doubles.astype(int)\n",
    "actual_doubles = df_doubles.sum()\n",
    "\n",
    "prob_of_doubles = actual_doubles / df_doubles.count()\n",
    "prob_of_doubles\n",
    "\n",
    "#Probability of rolling doubles is 0.168 or 16.8%\n"
   ]
  },
  {
   "cell_type": "markdown",
   "metadata": {},
   "source": [
    "Solution to Execerise 1 as a function below:"
   ]
  },
  {
   "cell_type": "code",
   "execution_count": 86,
   "metadata": {},
   "outputs": [],
   "source": [
    "n_col = 2\n",
    "n_row = 100000\n",
    "\n",
    "def probability_of_doubles(n_row,n_col):\n",
    "    rolls = np.random.choice([1, 2, 3, 4, 5, 6], n_row * n_col).reshape(n_row,n_col)\n",
    "    doubles = rolls[:,0] == rolls[:,1]\n",
    "    doubles.astype(int)\n",
    "    df = pd.DataFrame(rolls, columns = ['Coin_1','Coin_2']) \n",
    "    df_doubles = pd.DataFrame(doubles)\n",
    "    df_doubles.astype(int)\n",
    "    actual_doubles = df_doubles.sum()\n",
    "    prob_of_doubles = actual_doubles / df_doubles.count()\n",
    "    return prob_of_doubles"
   ]
  },
  {
   "cell_type": "code",
   "execution_count": null,
   "metadata": {},
   "outputs": [],
   "source": []
  },
  {
   "cell_type": "markdown",
   "metadata": {},
   "source": [
    "Exercise 2:"
   ]
  },
  {
   "cell_type": "markdown",
   "metadata": {},
   "source": [
    "\n",
    "2. If you flip 8 coins, what is the probability of getting exactly 3 heads? What is the probability of getting more than 3 heads?\n"
   ]
  },
  {
   "cell_type": "code",
   "execution_count": 87,
   "metadata": {},
   "outputs": [
    {
     "data": {
      "text/html": [
       "<div>\n",
       "<style scoped>\n",
       "    .dataframe tbody tr th:only-of-type {\n",
       "        vertical-align: middle;\n",
       "    }\n",
       "\n",
       "    .dataframe tbody tr th {\n",
       "        vertical-align: top;\n",
       "    }\n",
       "\n",
       "    .dataframe thead th {\n",
       "        text-align: right;\n",
       "    }\n",
       "</style>\n",
       "<table border=\"1\" class=\"dataframe\">\n",
       "  <thead>\n",
       "    <tr style=\"text-align: right;\">\n",
       "      <th></th>\n",
       "      <th>coin_1</th>\n",
       "      <th>coin_2</th>\n",
       "      <th>coin_3</th>\n",
       "      <th>coin_4</th>\n",
       "      <th>coin_5</th>\n",
       "      <th>coin_6</th>\n",
       "      <th>coin_7</th>\n",
       "      <th>coin_8</th>\n",
       "    </tr>\n",
       "  </thead>\n",
       "  <tbody>\n",
       "    <tr>\n",
       "      <th>0</th>\n",
       "      <td>0</td>\n",
       "      <td>1</td>\n",
       "      <td>1</td>\n",
       "      <td>0</td>\n",
       "      <td>0</td>\n",
       "      <td>0</td>\n",
       "      <td>0</td>\n",
       "      <td>0</td>\n",
       "    </tr>\n",
       "    <tr>\n",
       "      <th>1</th>\n",
       "      <td>0</td>\n",
       "      <td>1</td>\n",
       "      <td>1</td>\n",
       "      <td>0</td>\n",
       "      <td>0</td>\n",
       "      <td>0</td>\n",
       "      <td>1</td>\n",
       "      <td>1</td>\n",
       "    </tr>\n",
       "    <tr>\n",
       "      <th>2</th>\n",
       "      <td>1</td>\n",
       "      <td>0</td>\n",
       "      <td>1</td>\n",
       "      <td>1</td>\n",
       "      <td>0</td>\n",
       "      <td>1</td>\n",
       "      <td>1</td>\n",
       "      <td>1</td>\n",
       "    </tr>\n",
       "    <tr>\n",
       "      <th>3</th>\n",
       "      <td>0</td>\n",
       "      <td>1</td>\n",
       "      <td>1</td>\n",
       "      <td>0</td>\n",
       "      <td>1</td>\n",
       "      <td>1</td>\n",
       "      <td>0</td>\n",
       "      <td>0</td>\n",
       "    </tr>\n",
       "    <tr>\n",
       "      <th>4</th>\n",
       "      <td>1</td>\n",
       "      <td>1</td>\n",
       "      <td>0</td>\n",
       "      <td>1</td>\n",
       "      <td>1</td>\n",
       "      <td>1</td>\n",
       "      <td>0</td>\n",
       "      <td>1</td>\n",
       "    </tr>\n",
       "    <tr>\n",
       "      <th>...</th>\n",
       "      <td>...</td>\n",
       "      <td>...</td>\n",
       "      <td>...</td>\n",
       "      <td>...</td>\n",
       "      <td>...</td>\n",
       "      <td>...</td>\n",
       "      <td>...</td>\n",
       "      <td>...</td>\n",
       "    </tr>\n",
       "    <tr>\n",
       "      <th>99995</th>\n",
       "      <td>1</td>\n",
       "      <td>1</td>\n",
       "      <td>1</td>\n",
       "      <td>0</td>\n",
       "      <td>0</td>\n",
       "      <td>1</td>\n",
       "      <td>0</td>\n",
       "      <td>0</td>\n",
       "    </tr>\n",
       "    <tr>\n",
       "      <th>99996</th>\n",
       "      <td>0</td>\n",
       "      <td>1</td>\n",
       "      <td>1</td>\n",
       "      <td>1</td>\n",
       "      <td>0</td>\n",
       "      <td>1</td>\n",
       "      <td>1</td>\n",
       "      <td>0</td>\n",
       "    </tr>\n",
       "    <tr>\n",
       "      <th>99997</th>\n",
       "      <td>1</td>\n",
       "      <td>0</td>\n",
       "      <td>1</td>\n",
       "      <td>0</td>\n",
       "      <td>0</td>\n",
       "      <td>1</td>\n",
       "      <td>0</td>\n",
       "      <td>0</td>\n",
       "    </tr>\n",
       "    <tr>\n",
       "      <th>99998</th>\n",
       "      <td>0</td>\n",
       "      <td>1</td>\n",
       "      <td>1</td>\n",
       "      <td>0</td>\n",
       "      <td>1</td>\n",
       "      <td>1</td>\n",
       "      <td>0</td>\n",
       "      <td>0</td>\n",
       "    </tr>\n",
       "    <tr>\n",
       "      <th>99999</th>\n",
       "      <td>1</td>\n",
       "      <td>0</td>\n",
       "      <td>1</td>\n",
       "      <td>0</td>\n",
       "      <td>0</td>\n",
       "      <td>1</td>\n",
       "      <td>1</td>\n",
       "      <td>1</td>\n",
       "    </tr>\n",
       "  </tbody>\n",
       "</table>\n",
       "<p>100000 rows × 8 columns</p>\n",
       "</div>"
      ],
      "text/plain": [
       "       coin_1  coin_2  coin_3  coin_4  coin_5  coin_6  coin_7  coin_8\n",
       "0           0       1       1       0       0       0       0       0\n",
       "1           0       1       1       0       0       0       1       1\n",
       "2           1       0       1       1       0       1       1       1\n",
       "3           0       1       1       0       1       1       0       0\n",
       "4           1       1       0       1       1       1       0       1\n",
       "...       ...     ...     ...     ...     ...     ...     ...     ...\n",
       "99995       1       1       1       0       0       1       0       0\n",
       "99996       0       1       1       1       0       1       1       0\n",
       "99997       1       0       1       0       0       1       0       0\n",
       "99998       0       1       1       0       1       1       0       0\n",
       "99999       1       0       1       0       0       1       1       1\n",
       "\n",
       "[100000 rows x 8 columns]"
      ]
     },
     "execution_count": 87,
     "metadata": {},
     "output_type": "execute_result"
    }
   ],
   "source": [
    "# 8 coins total\n",
    "# part 1: find prob of 3 heads, no more no less\n",
    "# part 2: find prob of more than 3 heads\n",
    "\n",
    "# each coin either heads or tails 1 for heads 2 for tails\n",
    "# can i reuse a lot of code from the previous exercise?\n",
    "\n",
    "num_total_flips = 100000\n",
    "num_coins = 8 #rename/flip roles for better readability\n",
    "\n",
    "flips = np.random.choice([0,1], num_total_flips * num_coins).reshape(num_total_flips,num_coins)\n",
    "# heads = flips[:,0] == rolls[:,1]\n",
    "# doubles.astype(int)\n",
    "# first_df = pd.DataFrame(flips, columns = ['coin_1, coin_2, coin_3, coin_4, coin_5, coin_6, coin_7, coin_8']) \n",
    "# df_doubles = pd.DataFrame(doubles)\n",
    "# df_doubles.astype(int)\n",
    "# actual_doubles = df_doubles.sum()\n",
    "# prob_of_doubles = actual_doubles / df_doubles.count()\n",
    "\n",
    "\n",
    "#how do I index an entire row? flips[:,:]? \n",
    "\n",
    "# flips[:].sum() # need this to calculate for each row n_coins\n",
    "\n",
    "# if flips[n].sum() == 3:\n",
    "\n",
    "\n",
    "#I want each row in flips to be summed and compared to == 3 for boolean series\n",
    "#convert boolean series to int and sum, this gets the total number of sets that are == 3 heads\n",
    "# use same code for part 2 except sum > 3\n",
    "\n",
    "is_3_heads = 0\n",
    "\n",
    "flips_int = flips.astype(int)\n",
    "flips_pd_df = pd.DataFrame(flips, columns = ['coin_1', 'coin_2', 'coin_3', 'coin_4', 'coin_5', 'coin_6', 'coin_7', 'coin_8']) \n",
    "flips_pd_df\n",
    "\n",
    "\n",
    "\n"
   ]
  },
  {
   "cell_type": "code",
   "execution_count": 88,
   "metadata": {},
   "outputs": [
    {
     "data": {
      "text/plain": [
       "0        2\n",
       "1        4\n",
       "2        6\n",
       "3        4\n",
       "4        6\n",
       "        ..\n",
       "99995    4\n",
       "99996    5\n",
       "99997    3\n",
       "99998    4\n",
       "99999    5\n",
       "Length: 100000, dtype: int64"
      ]
     },
     "execution_count": 88,
     "metadata": {},
     "output_type": "execute_result"
    }
   ],
   "source": [
    "num_heads_per_set = flips.sum(axis = 1)\n",
    "num_heads_per_set #this is a np array totaling each set of 8 coin flips\n",
    "#how do I apply a condition to get booleans == 3?\n",
    "num_heads_per_set_pdSer = pd.Series(num_heads_per_set)\n",
    "num_heads_per_set_pdSer\n",
    "\n",
    "\n",
    "\n"
   ]
  },
  {
   "cell_type": "code",
   "execution_count": 89,
   "metadata": {},
   "outputs": [
    {
     "data": {
      "text/plain": [
       "0.21956"
      ]
     },
     "execution_count": 89,
     "metadata": {},
     "output_type": "execute_result"
    }
   ],
   "source": [
    "#initialize a variable to count num of rows that meet condition == 3\n",
    "# or create a new series of only rows equal to 3 then count the rows .count()\n",
    "\n",
    "is_1_if_3_heads = (num_heads_per_set_pdSer == 3).astype(int)\n",
    "\n",
    "total_sets_with_3_heads = is_1_if_3_heads.sum() #22 sets are == 3\n",
    "\n",
    "prob_of_exactly_3_heads = total_sets_with_3_heads / num_heads_per_set_pdSer.count()\n",
    "prob_of_exactly_3_heads\n",
    "\n",
    "\n",
    "\n",
    "\n",
    "\n",
    "\n"
   ]
  },
  {
   "cell_type": "markdown",
   "metadata": {},
   "source": [
    "Solution to #2 below:"
   ]
  },
  {
   "cell_type": "code",
   "execution_count": 90,
   "metadata": {},
   "outputs": [
    {
     "data": {
      "text/plain": [
       "0.21951"
      ]
     },
     "execution_count": 90,
     "metadata": {},
     "output_type": "execute_result"
    }
   ],
   "source": [
    "# put it all together for better readability\n",
    "\n",
    "num_total_flips = 100000\n",
    "num_coins = 8\n",
    "\n",
    "flips = np.random.choice([0,1], num_total_flips * num_coins).reshape(num_total_flips,num_coins)\n",
    "flips_int = flips.astype(int)\n",
    "flips_pd_df = pd.DataFrame(flips, columns = ['coin_1', 'coin_2', 'coin_3', 'coin_4', 'coin_5', 'coin_6', 'coin_7', 'coin_8']) \n",
    "num_heads_per_set = flips.sum(axis = 1)\n",
    "num_heads_per_set_pdSer = pd.Series(num_heads_per_set)\n",
    "is_1_if_3_heads = (num_heads_per_set_pdSer == 3).astype(int)\n",
    "total_sets_with_3_heads = is_1_if_3_heads.sum()\n",
    "prob_of_exactly_3_heads = total_sets_with_3_heads / num_heads_per_set_pdSer.count()\n",
    "prob_of_exactly_3_heads\n",
    "\n",
    "#can format the solution to show as a percentage rounded to 2 decimals for better radability\n",
    "\n",
    "\n"
   ]
  },
  {
   "cell_type": "code",
   "execution_count": 91,
   "metadata": {},
   "outputs": [
    {
     "data": {
      "text/plain": [
       "'21.95%'"
      ]
     },
     "execution_count": 91,
     "metadata": {},
     "output_type": "execute_result"
    }
   ],
   "source": [
    "(prob_of_exactly_3_heads * 100).round(2).astype(str) + '%'\n",
    "#formatted, can not use like this for more calculations "
   ]
  },
  {
   "cell_type": "code",
   "execution_count": 92,
   "metadata": {},
   "outputs": [
    {
     "data": {
      "text/plain": [
       "0.63316"
      ]
     },
     "execution_count": 92,
     "metadata": {},
     "output_type": "execute_result"
    }
   ],
   "source": [
    "#same thing but greater than 3 heads\n",
    "\n",
    "num_total_flips = 100000\n",
    "num_coins = 8\n",
    "\n",
    "flips = np.random.choice([0,1], num_total_flips * num_coins).reshape(num_total_flips,num_coins)\n",
    "flips_int = flips.astype(int)\n",
    "flips_pd_df = pd.DataFrame(flips, columns = ['coin_1', 'coin_2', 'coin_3', 'coin_4', 'coin_5', 'coin_6', 'coin_7', 'coin_8']) \n",
    "num_heads_per_set = flips.sum(axis = 1)\n",
    "num_heads_per_set_pdSer = pd.Series(num_heads_per_set)\n",
    "is_1_if_3_heads = (num_heads_per_set_pdSer > 3).astype(int)\n",
    "total_sets_with_3_heads = is_1_if_3_heads.sum()\n",
    "prob_of_exactly_3_heads = total_sets_with_3_heads / num_heads_per_set_pdSer.count()\n",
    "prob_of_exactly_3_heads"
   ]
  },
  {
   "cell_type": "markdown",
   "metadata": {},
   "source": [
    "\n",
    "3. There are approximitely 3 web development cohorts for every 1 data science cohort at Codeup. Assuming that Codeup randomly selects an alumni to put on a billboard, what are the odds that the two billboards I drive past both have data science students on them?\n"
   ]
  },
  {
   "cell_type": "code",
   "execution_count": 93,
   "metadata": {},
   "outputs": [
    {
     "data": {
      "text/plain": [
       "array([['wd', 'ds'],\n",
       "       ['wd', 'wd'],\n",
       "       ['wd', 'wd'],\n",
       "       ...,\n",
       "       ['wd', 'wd'],\n",
       "       ['wd', 'wd'],\n",
       "       ['wd', 'wd']], dtype='<U2')"
      ]
     },
     "execution_count": 93,
     "metadata": {},
     "output_type": "execute_result"
    }
   ],
   "source": [
    "num_trials = 100000\n",
    "possible_outcomes = ['wd', 'wd', 'wd', 'ds']\n",
    "num_billboards = 2\n",
    "billboards = np.random.choice(possible_outcomes, size=(num_trials,num_billboards))\n",
    "billboards\n",
    "\n"
   ]
  },
  {
   "cell_type": "code",
   "execution_count": 94,
   "metadata": {},
   "outputs": [
    {
     "data": {
      "text/plain": [
       "0.0626"
      ]
     },
     "execution_count": 94,
     "metadata": {},
     "output_type": "execute_result"
    }
   ],
   "source": [
    "(billboards == 'ds').sum(axis=1)\n",
    "prob_both_ds = ((billboards == 'ds').sum(axis=1) == 2).mean()\n",
    "prob_both_ds\n"
   ]
  },
  {
   "cell_type": "markdown",
   "metadata": {},
   "source": [
    "\n",
    "4. Codeup students buy, on average, 3 poptart packages with a standard deviation of 1.5 a day from the snack vending machine. If on monday the machine is restocked with 17 poptart packages, how likely is it that I will be able to buy some poptarts on Friday afternoon? (Remember, if you have mean and standard deviation, use the np.random.normal) You'll need to make a judgement call on how to handle some of your values\n"
   ]
  },
  {
   "cell_type": "code",
   "execution_count": 95,
   "metadata": {},
   "outputs": [
    {
     "data": {
      "text/plain": [
       "array([[ 0.8361835 ,  3.09689122,  3.92217185,  0.98525606,  3.5649651 ],\n",
       "       [ 4.28064161,  0.85540647,  2.35383297,  3.77254036,  4.18796248],\n",
       "       [ 3.92896972,  0.70217044,  5.598192  ,  2.72873122,  4.32368652],\n",
       "       ...,\n",
       "       [ 1.96518801,  1.23675756,  2.24492377,  4.44270915,  4.0008089 ],\n",
       "       [ 1.94064608,  4.20702501, -0.74310552,  5.48761062,  6.78306847],\n",
       "       [ 3.91765079,  2.7671123 , -1.26556784,  5.14175873,  4.04536831]])"
      ]
     },
     "execution_count": 95,
     "metadata": {},
     "output_type": "execute_result"
    }
   ],
   "source": [
    "sd = 1.5\n",
    "mean = 3\n",
    "num_days = 5\n",
    "poptarts_sold_in_a_day= np.random.normal(mean, sd, size=(num_trials, num_days))\n",
    "poptarts_sold_in_a_day\n"
   ]
  },
  {
   "cell_type": "code",
   "execution_count": 96,
   "metadata": {},
   "outputs": [
    {
     "data": {
      "text/plain": [
       "0.7225"
      ]
     },
     "execution_count": 96,
     "metadata": {},
     "output_type": "execute_result"
    }
   ],
   "source": [
    "poptarts_sold_in_a_week = poptarts_sold_in_a_day.sum(axis=1)\n",
    "poptarts_sold_in_a_week\n",
    "(poptarts_sold_in_a_week < 17).mean()"
   ]
  },
  {
   "cell_type": "markdown",
   "metadata": {},
   "source": [
    "\n",
    "5. Compare Heights\n",
    "\n",
    "- Men have an average height of 178 cm and standard deviation of 8cm.\n",
    "- Women have a mean of 170, sd = 6cm.\n",
    "- Since you have means and standard deviations, you can use np.random.normal to generate observations.\n",
    "- If a man and woman are chosen at random, what is the likelihood the woman is taller than the man?\n",
    "\n"
   ]
  },
  {
   "cell_type": "code",
   "execution_count": 97,
   "metadata": {},
   "outputs": [],
   "source": [
    "men_avg = 178\n",
    "men_std = 8\n",
    "men_height = np.random.normal(men_avg, men_std, num_trials)\n"
   ]
  },
  {
   "cell_type": "code",
   "execution_count": 98,
   "metadata": {},
   "outputs": [],
   "source": [
    "women_avg = 170\n",
    "women_std = 6\n",
    "women_height = np.random.normal(women_avg, women_std, num_trials)\n"
   ]
  },
  {
   "cell_type": "code",
   "execution_count": 99,
   "metadata": {},
   "outputs": [
    {
     "data": {
      "text/plain": [
       "array([166.92118426, 164.96630061, 181.33444036, ..., 182.45862096,\n",
       "       173.7130597 , 172.03623824])"
      ]
     },
     "execution_count": 99,
     "metadata": {},
     "output_type": "execute_result"
    }
   ],
   "source": [
    "men_height"
   ]
  },
  {
   "cell_type": "code",
   "execution_count": 100,
   "metadata": {},
   "outputs": [
    {
     "data": {
      "text/plain": [
       "array([156.78657366, 171.03371577, 169.74688234, ..., 174.86643376,\n",
       "       172.26990189, 173.50687747])"
      ]
     },
     "execution_count": 100,
     "metadata": {},
     "output_type": "execute_result"
    }
   ],
   "source": [
    "women_height"
   ]
  },
  {
   "cell_type": "code",
   "execution_count": 101,
   "metadata": {},
   "outputs": [
    {
     "data": {
      "text/plain": [
       "0.21116"
      ]
     },
     "execution_count": 101,
     "metadata": {},
     "output_type": "execute_result"
    }
   ],
   "source": [
    "(women_height > men_height).mean()\n",
    "#answer"
   ]
  },
  {
   "cell_type": "markdown",
   "metadata": {},
   "source": [
    "\n",
    "6. When installing anaconda on a student's computer, there's a 1 in 250 chance that the download is corrupted and the installation fails. What are the odds that after having 50 students download anaconda, no one has an installation issue? 100 students?\n",
    "\n",
    "- What is the probability that we observe an installation issue within the first 150 students that download anaconda?\n",
    "\n",
    "- How likely is it that 450 students all download anaconda without an issue?\n"
   ]
  },
  {
   "cell_type": "code",
   "execution_count": null,
   "metadata": {},
   "outputs": [],
   "source": []
  },
  {
   "cell_type": "markdown",
   "metadata": {},
   "source": [
    "\n",
    "7. There's a 70% chance on any given day that there will be at least one food truck at Travis Park. However, you haven't seen a food truck there in 3 days. How unlikely is this?\n",
    "\n",
    "How likely is it that a food truck will show up sometime this week?\n"
   ]
  },
  {
   "cell_type": "code",
   "execution_count": 102,
   "metadata": {},
   "outputs": [
    {
     "data": {
      "text/plain": [
       "array([[1, 1, 0],\n",
       "       [1, 0, 1],\n",
       "       [1, 0, 1],\n",
       "       ...,\n",
       "       [0, 1, 0],\n",
       "       [1, 1, 0],\n",
       "       [0, 1, 1]])"
      ]
     },
     "execution_count": 102,
     "metadata": {},
     "output_type": "execute_result"
    }
   ],
   "source": [
    "num_park_days = 3\n",
    "truck_in_park = np.random.choice([0, 1], size = (num_trials, num_park_days), p = [0.3, 0.7])\n",
    "truck_in_park"
   ]
  },
  {
   "cell_type": "code",
   "execution_count": 103,
   "metadata": {},
   "outputs": [
    {
     "data": {
      "text/plain": [
       "numpy.ndarray"
      ]
     },
     "execution_count": 103,
     "metadata": {},
     "output_type": "execute_result"
    }
   ],
   "source": [
    "type(truck_in_park)"
   ]
  },
  {
   "cell_type": "code",
   "execution_count": 104,
   "metadata": {},
   "outputs": [
    {
     "data": {
      "text/plain": [
       "array([2, 2, 2, ..., 1, 2, 2])"
      ]
     },
     "execution_count": 104,
     "metadata": {},
     "output_type": "execute_result"
    }
   ],
   "source": [
    "num_trucks = truck_in_park.sum(axis = 1)\n",
    "num_trucks"
   ]
  },
  {
   "cell_type": "code",
   "execution_count": 105,
   "metadata": {},
   "outputs": [
    {
     "data": {
      "text/plain": [
       "0.02745"
      ]
     },
     "execution_count": 105,
     "metadata": {},
     "output_type": "execute_result"
    }
   ],
   "source": [
    "(num_trucks == 0).mean()\n",
    "#answer"
   ]
  },
  {
   "cell_type": "markdown",
   "metadata": {},
   "source": [
    "\n",
    "8. If 23 people are in the same room, what are the odds that two of them share a birthday? What if it's 20 people? 40?"
   ]
  },
  {
   "cell_type": "code",
   "execution_count": 106,
   "metadata": {},
   "outputs": [
    {
     "data": {
      "text/html": [
       "<div>\n",
       "<style scoped>\n",
       "    .dataframe tbody tr th:only-of-type {\n",
       "        vertical-align: middle;\n",
       "    }\n",
       "\n",
       "    .dataframe tbody tr th {\n",
       "        vertical-align: top;\n",
       "    }\n",
       "\n",
       "    .dataframe thead th {\n",
       "        text-align: right;\n",
       "    }\n",
       "</style>\n",
       "<table border=\"1\" class=\"dataframe\">\n",
       "  <thead>\n",
       "    <tr style=\"text-align: right;\">\n",
       "      <th></th>\n",
       "      <th>0</th>\n",
       "      <th>1</th>\n",
       "      <th>2</th>\n",
       "      <th>3</th>\n",
       "      <th>4</th>\n",
       "      <th>5</th>\n",
       "      <th>6</th>\n",
       "      <th>7</th>\n",
       "      <th>8</th>\n",
       "      <th>9</th>\n",
       "      <th>...</th>\n",
       "      <th>13</th>\n",
       "      <th>14</th>\n",
       "      <th>15</th>\n",
       "      <th>16</th>\n",
       "      <th>17</th>\n",
       "      <th>18</th>\n",
       "      <th>19</th>\n",
       "      <th>20</th>\n",
       "      <th>21</th>\n",
       "      <th>22</th>\n",
       "    </tr>\n",
       "  </thead>\n",
       "  <tbody>\n",
       "    <tr>\n",
       "      <th>0</th>\n",
       "      <td>297</td>\n",
       "      <td>345</td>\n",
       "      <td>240</td>\n",
       "      <td>38</td>\n",
       "      <td>0</td>\n",
       "      <td>82</td>\n",
       "      <td>80</td>\n",
       "      <td>217</td>\n",
       "      <td>336</td>\n",
       "      <td>33</td>\n",
       "      <td>...</td>\n",
       "      <td>21</td>\n",
       "      <td>54</td>\n",
       "      <td>83</td>\n",
       "      <td>208</td>\n",
       "      <td>161</td>\n",
       "      <td>192</td>\n",
       "      <td>132</td>\n",
       "      <td>223</td>\n",
       "      <td>56</td>\n",
       "      <td>44</td>\n",
       "    </tr>\n",
       "    <tr>\n",
       "      <th>1</th>\n",
       "      <td>294</td>\n",
       "      <td>268</td>\n",
       "      <td>233</td>\n",
       "      <td>22</td>\n",
       "      <td>118</td>\n",
       "      <td>128</td>\n",
       "      <td>341</td>\n",
       "      <td>113</td>\n",
       "      <td>265</td>\n",
       "      <td>146</td>\n",
       "      <td>...</td>\n",
       "      <td>96</td>\n",
       "      <td>120</td>\n",
       "      <td>304</td>\n",
       "      <td>49</td>\n",
       "      <td>50</td>\n",
       "      <td>118</td>\n",
       "      <td>24</td>\n",
       "      <td>100</td>\n",
       "      <td>276</td>\n",
       "      <td>238</td>\n",
       "    </tr>\n",
       "    <tr>\n",
       "      <th>2</th>\n",
       "      <td>244</td>\n",
       "      <td>18</td>\n",
       "      <td>197</td>\n",
       "      <td>114</td>\n",
       "      <td>172</td>\n",
       "      <td>197</td>\n",
       "      <td>331</td>\n",
       "      <td>78</td>\n",
       "      <td>358</td>\n",
       "      <td>345</td>\n",
       "      <td>...</td>\n",
       "      <td>357</td>\n",
       "      <td>52</td>\n",
       "      <td>251</td>\n",
       "      <td>270</td>\n",
       "      <td>295</td>\n",
       "      <td>250</td>\n",
       "      <td>46</td>\n",
       "      <td>93</td>\n",
       "      <td>144</td>\n",
       "      <td>151</td>\n",
       "    </tr>\n",
       "    <tr>\n",
       "      <th>3</th>\n",
       "      <td>119</td>\n",
       "      <td>112</td>\n",
       "      <td>243</td>\n",
       "      <td>70</td>\n",
       "      <td>346</td>\n",
       "      <td>166</td>\n",
       "      <td>24</td>\n",
       "      <td>303</td>\n",
       "      <td>153</td>\n",
       "      <td>317</td>\n",
       "      <td>...</td>\n",
       "      <td>299</td>\n",
       "      <td>203</td>\n",
       "      <td>70</td>\n",
       "      <td>245</td>\n",
       "      <td>67</td>\n",
       "      <td>245</td>\n",
       "      <td>179</td>\n",
       "      <td>345</td>\n",
       "      <td>211</td>\n",
       "      <td>136</td>\n",
       "    </tr>\n",
       "    <tr>\n",
       "      <th>4</th>\n",
       "      <td>296</td>\n",
       "      <td>164</td>\n",
       "      <td>31</td>\n",
       "      <td>213</td>\n",
       "      <td>145</td>\n",
       "      <td>265</td>\n",
       "      <td>172</td>\n",
       "      <td>23</td>\n",
       "      <td>64</td>\n",
       "      <td>1</td>\n",
       "      <td>...</td>\n",
       "      <td>39</td>\n",
       "      <td>54</td>\n",
       "      <td>245</td>\n",
       "      <td>352</td>\n",
       "      <td>321</td>\n",
       "      <td>48</td>\n",
       "      <td>62</td>\n",
       "      <td>49</td>\n",
       "      <td>69</td>\n",
       "      <td>43</td>\n",
       "    </tr>\n",
       "    <tr>\n",
       "      <th>...</th>\n",
       "      <td>...</td>\n",
       "      <td>...</td>\n",
       "      <td>...</td>\n",
       "      <td>...</td>\n",
       "      <td>...</td>\n",
       "      <td>...</td>\n",
       "      <td>...</td>\n",
       "      <td>...</td>\n",
       "      <td>...</td>\n",
       "      <td>...</td>\n",
       "      <td>...</td>\n",
       "      <td>...</td>\n",
       "      <td>...</td>\n",
       "      <td>...</td>\n",
       "      <td>...</td>\n",
       "      <td>...</td>\n",
       "      <td>...</td>\n",
       "      <td>...</td>\n",
       "      <td>...</td>\n",
       "      <td>...</td>\n",
       "      <td>...</td>\n",
       "    </tr>\n",
       "    <tr>\n",
       "      <th>99995</th>\n",
       "      <td>256</td>\n",
       "      <td>316</td>\n",
       "      <td>252</td>\n",
       "      <td>123</td>\n",
       "      <td>307</td>\n",
       "      <td>257</td>\n",
       "      <td>23</td>\n",
       "      <td>77</td>\n",
       "      <td>315</td>\n",
       "      <td>338</td>\n",
       "      <td>...</td>\n",
       "      <td>236</td>\n",
       "      <td>348</td>\n",
       "      <td>141</td>\n",
       "      <td>119</td>\n",
       "      <td>72</td>\n",
       "      <td>232</td>\n",
       "      <td>331</td>\n",
       "      <td>201</td>\n",
       "      <td>308</td>\n",
       "      <td>71</td>\n",
       "    </tr>\n",
       "    <tr>\n",
       "      <th>99996</th>\n",
       "      <td>262</td>\n",
       "      <td>30</td>\n",
       "      <td>178</td>\n",
       "      <td>25</td>\n",
       "      <td>352</td>\n",
       "      <td>40</td>\n",
       "      <td>128</td>\n",
       "      <td>232</td>\n",
       "      <td>299</td>\n",
       "      <td>52</td>\n",
       "      <td>...</td>\n",
       "      <td>263</td>\n",
       "      <td>250</td>\n",
       "      <td>39</td>\n",
       "      <td>64</td>\n",
       "      <td>101</td>\n",
       "      <td>147</td>\n",
       "      <td>156</td>\n",
       "      <td>283</td>\n",
       "      <td>264</td>\n",
       "      <td>38</td>\n",
       "    </tr>\n",
       "    <tr>\n",
       "      <th>99997</th>\n",
       "      <td>71</td>\n",
       "      <td>63</td>\n",
       "      <td>80</td>\n",
       "      <td>222</td>\n",
       "      <td>122</td>\n",
       "      <td>309</td>\n",
       "      <td>249</td>\n",
       "      <td>241</td>\n",
       "      <td>206</td>\n",
       "      <td>60</td>\n",
       "      <td>...</td>\n",
       "      <td>260</td>\n",
       "      <td>40</td>\n",
       "      <td>349</td>\n",
       "      <td>119</td>\n",
       "      <td>356</td>\n",
       "      <td>181</td>\n",
       "      <td>127</td>\n",
       "      <td>243</td>\n",
       "      <td>193</td>\n",
       "      <td>344</td>\n",
       "    </tr>\n",
       "    <tr>\n",
       "      <th>99998</th>\n",
       "      <td>116</td>\n",
       "      <td>22</td>\n",
       "      <td>355</td>\n",
       "      <td>122</td>\n",
       "      <td>137</td>\n",
       "      <td>32</td>\n",
       "      <td>353</td>\n",
       "      <td>257</td>\n",
       "      <td>110</td>\n",
       "      <td>92</td>\n",
       "      <td>...</td>\n",
       "      <td>0</td>\n",
       "      <td>320</td>\n",
       "      <td>336</td>\n",
       "      <td>208</td>\n",
       "      <td>135</td>\n",
       "      <td>59</td>\n",
       "      <td>250</td>\n",
       "      <td>93</td>\n",
       "      <td>142</td>\n",
       "      <td>275</td>\n",
       "    </tr>\n",
       "    <tr>\n",
       "      <th>99999</th>\n",
       "      <td>271</td>\n",
       "      <td>191</td>\n",
       "      <td>171</td>\n",
       "      <td>109</td>\n",
       "      <td>197</td>\n",
       "      <td>204</td>\n",
       "      <td>331</td>\n",
       "      <td>349</td>\n",
       "      <td>302</td>\n",
       "      <td>261</td>\n",
       "      <td>...</td>\n",
       "      <td>265</td>\n",
       "      <td>306</td>\n",
       "      <td>272</td>\n",
       "      <td>133</td>\n",
       "      <td>255</td>\n",
       "      <td>52</td>\n",
       "      <td>187</td>\n",
       "      <td>11</td>\n",
       "      <td>289</td>\n",
       "      <td>95</td>\n",
       "    </tr>\n",
       "  </tbody>\n",
       "</table>\n",
       "<p>100000 rows × 23 columns</p>\n",
       "</div>"
      ],
      "text/plain": [
       "        0    1    2    3    4    5    6    7    8    9   ...   13   14   15  \\\n",
       "0      297  345  240   38    0   82   80  217  336   33  ...   21   54   83   \n",
       "1      294  268  233   22  118  128  341  113  265  146  ...   96  120  304   \n",
       "2      244   18  197  114  172  197  331   78  358  345  ...  357   52  251   \n",
       "3      119  112  243   70  346  166   24  303  153  317  ...  299  203   70   \n",
       "4      296  164   31  213  145  265  172   23   64    1  ...   39   54  245   \n",
       "...    ...  ...  ...  ...  ...  ...  ...  ...  ...  ...  ...  ...  ...  ...   \n",
       "99995  256  316  252  123  307  257   23   77  315  338  ...  236  348  141   \n",
       "99996  262   30  178   25  352   40  128  232  299   52  ...  263  250   39   \n",
       "99997   71   63   80  222  122  309  249  241  206   60  ...  260   40  349   \n",
       "99998  116   22  355  122  137   32  353  257  110   92  ...    0  320  336   \n",
       "99999  271  191  171  109  197  204  331  349  302  261  ...  265  306  272   \n",
       "\n",
       "        16   17   18   19   20   21   22  \n",
       "0      208  161  192  132  223   56   44  \n",
       "1       49   50  118   24  100  276  238  \n",
       "2      270  295  250   46   93  144  151  \n",
       "3      245   67  245  179  345  211  136  \n",
       "4      352  321   48   62   49   69   43  \n",
       "...    ...  ...  ...  ...  ...  ...  ...  \n",
       "99995  119   72  232  331  201  308   71  \n",
       "99996   64  101  147  156  283  264   38  \n",
       "99997  119  356  181  127  243  193  344  \n",
       "99998  208  135   59  250   93  142  275  \n",
       "99999  133  255   52  187   11  289   95  \n",
       "\n",
       "[100000 rows x 23 columns]"
      ]
     },
     "execution_count": 106,
     "metadata": {},
     "output_type": "execute_result"
    }
   ],
   "source": [
    "dates = range(0,365)\n",
    "num_classmates = 23\n",
    "birthdays= np.random.choice(dates, size=(num_trials, num_classmates))\n",
    "birthdays\n",
    "birthdays = pd.DataFrame(birthdays)\n",
    "birthdays"
   ]
  },
  {
   "cell_type": "code",
   "execution_count": 107,
   "metadata": {},
   "outputs": [
    {
     "data": {
      "text/plain": [
       "0        False\n",
       "1         True\n",
       "2         True\n",
       "3         True\n",
       "4        False\n",
       "         ...  \n",
       "99995    False\n",
       "99996    False\n",
       "99997    False\n",
       "99998    False\n",
       "99999    False\n",
       "Length: 100000, dtype: bool"
      ]
     },
     "execution_count": 107,
     "metadata": {},
     "output_type": "execute_result"
    }
   ],
   "source": [
    "is_same_bday = (birthdays.nunique(axis=1) < 23)\n",
    "is_same_bday"
   ]
  },
  {
   "cell_type": "code",
   "execution_count": 108,
   "metadata": {},
   "outputs": [
    {
     "data": {
      "text/plain": [
       "0.50605"
      ]
     },
     "execution_count": 108,
     "metadata": {},
     "output_type": "execute_result"
    }
   ],
   "source": [
    "prob_of_same_bday = is_same_bday.mean()\n",
    "prob_of_same_bday\n",
    "#answer"
   ]
  },
  {
   "cell_type": "markdown",
   "metadata": {},
   "source": []
  }
 ],
 "metadata": {
  "kernelspec": {
   "display_name": "Python 3.9.13 ('base')",
   "language": "python",
   "name": "python3"
  },
  "language_info": {
   "codemirror_mode": {
    "name": "ipython",
    "version": 3
   },
   "file_extension": ".py",
   "mimetype": "text/x-python",
   "name": "python",
   "nbconvert_exporter": "python",
   "pygments_lexer": "ipython3",
   "version": "3.9.13"
  },
  "orig_nbformat": 4,
  "vscode": {
   "interpreter": {
    "hash": "38cca0c38332a56087b24af0bc80247f4fced29cb4f7f437d91dc159adec9c4e"
   }
  }
 },
 "nbformat": 4,
 "nbformat_minor": 2
}
