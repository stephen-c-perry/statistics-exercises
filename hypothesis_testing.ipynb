{
 "cells": [
  {
   "cell_type": "code",
   "execution_count": 1,
   "metadata": {},
   "outputs": [],
   "source": [
    "import numpy as np\n",
    "import pandas as pd\n",
    "import seaborn as sns\n",
    "import scipy.stats as stats\n",
    "import matplotlib.pyplot as plt\n",
    "%matplotlib inline"
   ]
  },
  {
   "cell_type": "markdown",
   "metadata": {},
   "source": [
    "## Overview"
   ]
  },
  {
   "cell_type": "markdown",
   "metadata": {},
   "source": [
    "For each of the following questions, formulate a null and alternative hypothesis (be as specific as you can be), then give an example of what a true positive, true negative, type I and type II errors would look like. Note that some of the questions are intentionally phrased in a vague way. It is your job to reword these as more precise questions that could be tested.\n",
    "\n",
    "- Has the network latency gone up since we switched internet service providers?\n",
    "\n",
    "\n",
    "- Is the website redesign any good?\n",
    "\n",
    "\n",
    "- Is our television ad driving more sales?"
   ]
  },
  {
   "cell_type": "markdown",
   "metadata": {},
   "source": [
    "## T-Test"
   ]
  },
  {
   "cell_type": "markdown",
   "metadata": {},
   "source": []
  },
  {
   "cell_type": "markdown",
   "metadata": {},
   "source": [
    "1. Answer with the type of test you would use (assume normal distribution):\n",
    "\n",
    "- Is there a difference in grades of students on the second floor compared to grades of all students?\n",
    "\n",
    "\n",
    "- Are adults who drink milk taller than adults who dont drink milk?\n",
    "\n",
    "\n",
    "- Is the the price of gas higher in texas or in new mexico?\n",
    "\n",
    "\n",
    "- Are there differences in stress levels between students who take data science vs students who take web development vs students who take cloud academy?\n",
    "\n",
    "\n"
   ]
  },
  {
   "cell_type": "markdown",
   "metadata": {},
   "source": [
    "\n",
    "2. Ace Realty wants to determine whether the average time it takes to sell homes is different for its two offices. A sample of 40 sales from office #1 revealed a mean of 90 days and a standard deviation of 15 days. A sample of 50 sales from office #2 revealed a mean of 100 days and a standard deviation of 20 days. Use a .05 level of significance.\n",
    "\n"
   ]
  },
  {
   "cell_type": "markdown",
   "metadata": {},
   "source": [
    "\n",
    "\n",
    "3. Load the mpg dataset and use it to answer the following questions:\n",
    "\n",
    "- Is there a difference in fuel-efficiency in cars from 2008 vs 1999?\n",
    "\n",
    "\n",
    "- Are compact cars more fuel-efficient than the average car?\n",
    "\n",
    "\n",
    "- Do manual cars get better gas mileage than automatic cars?"
   ]
  },
  {
   "cell_type": "code",
   "execution_count": null,
   "metadata": {},
   "outputs": [],
   "source": []
  },
  {
   "cell_type": "markdown",
   "metadata": {},
   "source": [
    "## Correlation"
   ]
  },
  {
   "cell_type": "markdown",
   "metadata": {},
   "source": [
    "1. Answer with the type of stats test you would use (assume normal distribution):\n",
    "\n",
    "\n",
    "- Is there a relationship between the length of your arm and the length of your foot?\n",
    "\n",
    "\n",
    "- Do guys and gals quit their jobs at the same rate?\n",
    "\n",
    "\n",
    "- Does the length of time of the lecture correlate with a students grade?\n",
    "\n",
    "\n",
    "\n",
    "\n",
    "2. Use the telco_churn data.\n",
    "- Does tenure correlate with monthly charges?\n",
    "\n",
    "\n",
    "- Total charges?\n",
    "\n",
    "\n",
    "- What happens if you control for phone and internet service?\n",
    "\n",
    "\n",
    "\n",
    "\n",
    "\n",
    "3. Use the employees database.\n",
    "- Is there a relationship between how long an employee has been with the company and their salary?\n",
    "\n",
    "\n",
    "- Is there a relationship between how long an employee has been with the company and the number of titles they have had?\n",
    "\n",
    "\n",
    "\n",
    "\n",
    "\n",
    "4. Use the sleepstudy data.\n",
    "- Is there a relationship between days and reaction time?"
   ]
  },
  {
   "cell_type": "markdown",
   "metadata": {},
   "source": [
    "## Chi Square"
   ]
  },
  {
   "cell_type": "markdown",
   "metadata": {},
   "source": [
    "1. Answer with the type of stats test you would use (assume normal distribution):\n",
    "\n",
    "- Do students get better test grades if they have a rubber duck on their desk?\n",
    "- Does smoking affect when or not someone has lung cancer?\n",
    "- Is gender independent of a person’s blood type?\n",
    "- A farming company wants to know if a new fertilizer has improved crop yield or not\n",
    "- Does the length of time of the lecture correlate with a students grade?\n",
    "- Do people with dogs live in apartments more than people with cats?\n",
    "\n",
    "\n",
    "\n",
    "2. Use the following contingency table to help answer the question of whether using a macbook and being a codeup student are independent of each other.\n",
    "\n",
    "- - -\n",
    "    Codeup Student\t    Not Codeup Student\n",
    "    49                  20                   Uses a Macbook\n",
    "    1                   30                   Doesn't Use A Macbook\n",
    "- - -\n",
    "\n",
    "\n",
    "3. Choose another 2 categorical variables from the mpg dataset and perform a chi^2 contingency table test with them. Be sure to state your null and alternative hypotheses.\n",
    "\n",
    "\n",
    "\n",
    "4. Use the data from the employees database to answer these questions:\n",
    "\n",
    "\n",
    "\n",
    "- Is an employee's gender independent of whether an employee works in sales or marketing? (only look at current employees)\n",
    "- Is an employee's gender independent of whether or not they are or have been a manager?"
   ]
  },
  {
   "cell_type": "markdown",
   "metadata": {},
   "source": []
  }
 ],
 "metadata": {
  "kernelspec": {
   "display_name": "Python 3.9.13 ('base')",
   "language": "python",
   "name": "python3"
  },
  "language_info": {
   "codemirror_mode": {
    "name": "ipython",
    "version": 3
   },
   "file_extension": ".py",
   "mimetype": "text/x-python",
   "name": "python",
   "nbconvert_exporter": "python",
   "pygments_lexer": "ipython3",
   "version": "3.9.13"
  },
  "orig_nbformat": 4,
  "vscode": {
   "interpreter": {
    "hash": "38cca0c38332a56087b24af0bc80247f4fced29cb4f7f437d91dc159adec9c4e"
   }
  }
 },
 "nbformat": 4,
 "nbformat_minor": 2
}
